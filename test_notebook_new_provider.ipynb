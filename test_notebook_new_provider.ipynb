{
 "cells": [
  {
   "cell_type": "code",
   "execution_count": 17,
   "id": "ad8e129c",
   "metadata": {},
   "outputs": [],
   "source": [
    "import os \n",
    "\n",
    "from docllm.caller.providers import Provider, ProviderFactory\n",
    "from docllm.config import CallerConfig"
   ]
  },
  {
   "cell_type": "code",
   "execution_count": 18,
   "id": "5ac2a542",
   "metadata": {},
   "outputs": [],
   "source": [
    "system_prompt = \"\"\"\n",
    "You are a helpful assistant that can answer questions about political science, economics, and history of Nepal.\n",
    "\"\"\"\n",
    "\n",
    "user_prompt = \"\"\"\n",
    "What are the main political parties in Nepal and their ideologies?\n",
    "Give answer in JSON object\n",
    "\"\"\""
   ]
  },
  {
   "cell_type": "markdown",
   "id": "6ef1e3d7",
   "metadata": {},
   "source": [
    "## Checking OPENAI provider"
   ]
  },
  {
   "cell_type": "code",
   "execution_count": 19,
   "id": "16bcaa75",
   "metadata": {},
   "outputs": [],
   "source": [
    "LLM_PROVIDER_OpenAI = ProviderFactory.create_provider(\n",
    "        provider_name=os.environ.get(\"LLM_PROVIDER\", \"openai\"), api_key=os.environ.get(\"OPENAI_API_KEY\")\n",
    "    )"
   ]
  },
  {
   "cell_type": "code",
   "execution_count": 20,
   "id": "3f8ce402",
   "metadata": {},
   "outputs": [],
   "source": [
    "caller_config_openai = CallerConfig(\n",
    "                model_name=os.environ.get(\"MODEL_NAME\", \"gpt-4o\"),\n",
    "                # allow_model=True,\n",
    "                temperature=0.2,\n",
    ")\n"
   ]
  },
  {
   "cell_type": "code",
   "execution_count": 21,
   "id": "3bcb8cdb",
   "metadata": {},
   "outputs": [
    {
     "data": {
      "text/plain": [
       "CallerConfig(model_name='gpt-4o', allow_model=False, json_mode=True, temperature=0.2, max_tokens=None, frequency_penalty=0, presence_penalty=0, seed=None, logprobs=None, timeout=None, prompt_caching=False, allow_params=False)"
      ]
     },
     "execution_count": 21,
     "metadata": {},
     "output_type": "execute_result"
    }
   ],
   "source": [
    "caller_config_openai"
   ]
  },
  {
   "cell_type": "code",
   "execution_count": 22,
   "id": "23bc9137",
   "metadata": {},
   "outputs": [
    {
     "name": "stderr",
     "output_type": "stream",
     "text": [
      "\u001b[32m2025-06-02 16:34:36.646\u001b[0m | \u001b[1mINFO    \u001b[0m | \u001b[36mdocllm.caller.base\u001b[0m:\u001b[36m_call_partial\u001b[0m:\u001b[36m348\u001b[0m - \u001b[1m[INFO] Using OpenAIProvider with model gpt-4o, allow_model: False and params {'temperature': 0.2, 'frequency_penalty': 0, 'presence_penalty': 0}.\u001b[0m\n"
     ]
    }
   ],
   "source": [
    "response_openai = LLM_PROVIDER_OpenAI.call(\n",
    "            system_prompt=system_prompt,\n",
    "            user_prompt=user_prompt,\n",
    "            caller_config=caller_config_openai\n",
    "        )"
   ]
  },
  {
   "cell_type": "code",
   "execution_count": 23,
   "id": "b53f34fa",
   "metadata": {},
   "outputs": [
    {
     "name": "stdout",
     "output_type": "stream",
     "text": [
      "\n",
      "{\n",
      "  \"Nepali Congress (NC)\": {\n",
      "    \"ideology\": \"Social democracy, Democratic socialism\",\n",
      "    \"description\": \"The Nepali Congress is one of the oldest and largest political parties in Nepal. It advocates for democratic socialism and has been a major force in the country's democratic movements.\"\n",
      "  },\n",
      "  \"Communist Party of Nepal (Unified Marxist–Leninist) (CPN-UML)\": {\n",
      "    \"ideology\": \"Marxism–Leninism, Socialism\",\n",
      "    \"description\": \"The CPN-UML is a major communist party in Nepal, promoting a blend of Marxist-Leninist principles with democratic practices. It has been a significant player in Nepalese politics, especially after the monarchy's fall.\"\n",
      "  },\n",
      "  \"Communist Party of Nepal (Maoist Centre) (CPN-MC)\": {\n",
      "    \"ideology\": \"Marxism–Leninism–Maoism\",\n",
      "    \"description\": \"Originally a militant group, the CPN-MC played a crucial role in the Nepalese civil war. It now participates in the democratic process, advocating for Maoist principles and social justice.\"\n",
      "  },\n",
      "  \"Rastriya Prajatantra Party (RPP)\": {\n",
      "    \"ideology\": \"Conservatism, Hindu nationalism, Monarchism\",\n",
      "    \"description\": \"The RPP supports the restoration of the monarchy and promotes Hindu nationalism. It is a conservative party that appeals to traditional and royalist sentiments.\"\n",
      "  },\n",
      "  \"Janata Samajwadi Party, Nepal (JSPN)\": {\n",
      "    \"ideology\": \"Democratic socialism, Federalism\",\n",
      "    \"description\": \"Formed from a merger of several Madhesi parties, the JSPN focuses on the rights of the Madhesi people and advocates for federalism and social justice.\"\n",
      "  },\n",
      "  \"Loktantrik Samajwadi Party, Nepal (LSPN)\": {\n",
      "    \"ideology\": \"Democratic socialism, Federalism\",\n",
      "    \"description\": \"A splinter group from the JSPN, the LSPN also focuses on Madhesi rights and federalism, emphasizing social justice and democratic principles.\"\n",
      "  }\n",
      "}\n"
     ]
    }
   ],
   "source": [
    "print(response_openai.text)"
   ]
  },
  {
   "cell_type": "markdown",
   "id": "71dbf2a5",
   "metadata": {},
   "source": [
    "## Checking OpenRouter Provider"
   ]
  },
  {
   "cell_type": "code",
   "execution_count": 24,
   "id": "cbf63591",
   "metadata": {},
   "outputs": [],
   "source": [
    "LLM_PROVIDER_OpenRouter = ProviderFactory.create_provider(\n",
    "        provider_name=os.environ.get(\"LLM_PROVIDER\", \"openrouter\"), api_key=os.environ.get(\"OPENROUTER_API_KEY\")\n",
    "    )"
   ]
  },
  {
   "cell_type": "code",
   "execution_count": 25,
   "id": "4630ec1f",
   "metadata": {},
   "outputs": [],
   "source": [
    "caller_config_open_router = CallerConfig(\n",
    "                model_name=os.environ.get(\"MODEL_NAME\", \"google/gemini-2.0-flash-001\"),\n",
    "                # allow_model=True,\n",
    "                temperature=0.2,\n",
    ")\n"
   ]
  },
  {
   "cell_type": "code",
   "execution_count": 26,
   "id": "0ae3466d",
   "metadata": {},
   "outputs": [
    {
     "name": "stderr",
     "output_type": "stream",
     "text": [
      "\u001b[32m2025-06-02 16:34:50.398\u001b[0m | \u001b[1mINFO    \u001b[0m | \u001b[36mdocllm.caller.base\u001b[0m:\u001b[36m_call_partial\u001b[0m:\u001b[36m348\u001b[0m - \u001b[1m[INFO] Using OpenRouterProvider with model google/gemini-2.0-flash-001, allow_model: False and params {'temperature': 0.2, 'frequency_penalty': 0, 'presence_penalty': 0}.\u001b[0m\n"
     ]
    }
   ],
   "source": [
    "response_open_router = LLM_PROVIDER_OpenRouter.call(\n",
    "            system_prompt=system_prompt,\n",
    "            user_prompt=user_prompt,\n",
    "            caller_config=caller_config_open_router\n",
    "        )"
   ]
  },
  {
   "cell_type": "code",
   "execution_count": 27,
   "id": "94c1a6d2",
   "metadata": {},
   "outputs": [
    {
     "name": "stdout",
     "output_type": "stream",
     "text": [
      "{\n",
      "  \"political_parties\": [\n",
      "    {\n",
      "      \"name\": \"Nepali Congress (NC)\",\n",
      "      \"ideology\": \"Democratic Socialism, Social Liberalism\",\n",
      "      \"description\": \"One of the oldest and largest political parties in Nepal. Advocates for a parliamentary democracy, social justice, and a mixed economy.\"\n",
      "    },\n",
      "    {\n",
      "      \"name\": \"Communist Party of Nepal (Unified Marxist–Leninist) (CPN-UML)\",\n",
      "      \"ideology\": \"Marxism–Leninism, Democratic Socialism\",\n",
      "      \"description\": \"A major communist party in Nepal. It aims to establish a socialist society through democratic means.\"\n",
      "    },\n",
      "    {\n",
      "      \"name\": \"Communist Party of Nepal (Maoist Centre) (CPN-MC)\",\n",
      "      \"ideology\": \"Marxism–Leninism–Maoism\",\n",
      "      \"description\": \"Emerged from the Maoist insurgency. Advocates for a socialist revolution and the rights of marginalized communities.\"\n",
      "    },\n",
      "    {\n",
      "      \"name\": \"Rastriya Swatantra Party (RSP)\",\n",
      "      \"ideology\": \"Liberalism, Good Governance\",\n",
      "      \"description\": \"A relatively new party that focuses on anti-corruption, transparency, and efficient governance.\"\n",
      "    },\n",
      "    {\n",
      "      \"name\": \"Rastriya Prajatantra Party (RPP)\",\n",
      "      \"ideology\": \"Hindu Nationalism, Constitutional Monarchy\",\n",
      "      \"description\": \"Advocates for the restoration of a constitutional monarchy and the promotion of Hindu values.\"\n",
      "    },\n",
      "    {\n",
      "      \"name\": \"Janata Samajbadi Party, Nepal (JSPN)\",\n",
      "      \"ideology\": \"Federalism, Social Justice\",\n",
      "      \"description\": \"Focuses on the rights of Madhesi and other marginalized communities, advocating for greater autonomy and representation.\"\n",
      "    }\n",
      "  ]\n",
      "}\n"
     ]
    }
   ],
   "source": [
    "print(response_open_router.text)"
   ]
  },
  {
   "cell_type": "markdown",
   "id": "359954b1",
   "metadata": {},
   "source": [
    "## Checking Gemini Provider"
   ]
  },
  {
   "cell_type": "code",
   "execution_count": 28,
   "id": "c49384b6",
   "metadata": {},
   "outputs": [],
   "source": [
    "LLM_PROVIDER_Gemini = ProviderFactory.create_provider(\n",
    "        provider_name=os.environ.get(\"LLM_PROVIDER\", \"gemini\"), api_key = os.environ.get(\"GEMINI_API_KEY\")\n",
    "    )"
   ]
  },
  {
   "cell_type": "code",
   "execution_count": 29,
   "id": "1b6538f8",
   "metadata": {},
   "outputs": [],
   "source": [
    "caller_config_gemini = CallerConfig(\n",
    "                model_name=os.environ.get(\"MODEL_NAME\", \"gemini-2.5-flash-preview-05-20\"),\n",
    "                # allow_model=True,\n",
    "                temperature=0.2,\n",
    ")\n"
   ]
  },
  {
   "cell_type": "code",
   "execution_count": 30,
   "id": "24f1b81f",
   "metadata": {},
   "outputs": [
    {
     "name": "stderr",
     "output_type": "stream",
     "text": [
      "\u001b[32m2025-06-02 16:34:56.023\u001b[0m | \u001b[1mINFO    \u001b[0m | \u001b[36mdocllm.caller.base\u001b[0m:\u001b[36m_call_partial\u001b[0m:\u001b[36m348\u001b[0m - \u001b[1m[INFO] Using GeminiProvider with model gemini-2.5-flash-preview-05-20, allow_model: False and params {'temperature': 0.2}.\u001b[0m\n"
     ]
    }
   ],
   "source": [
    "response_gemini = LLM_PROVIDER_Gemini.call(\n",
    "            system_prompt=system_prompt,\n",
    "            user_prompt=user_prompt,\n",
    "            caller_config=caller_config_gemini\n",
    "        )"
   ]
  },
  {
   "cell_type": "code",
   "execution_count": 31,
   "id": "839ec254",
   "metadata": {},
   "outputs": [
    {
     "name": "stdout",
     "output_type": "stream",
     "text": [
      "{\n",
      "  \"political_parties\": [\n",
      "    {\n",
      "      \"name\": \"Nepali Congress (NC)\",\n",
      "      \"ideology\": \"Social democracy, democratic socialism, liberalism, nationalism. Advocates for a democratic republic, parliamentary system, and economic liberalization.\"\n",
      "    },\n",
      "    {\n",
      "      \"name\": \"Communist Party of Nepal (Unified Marxist–Leninist) (CPN-UML)\",\n",
      "      \"ideology\": \"Marxism-Leninism, 'People's Multi-Party Democracy'. Aims for a socialist transformation through a multi-party competitive system, focusing on nationalism and development.\"\n",
      "    },\n",
      "    {\n",
      "      \"name\": \"Communist Party of Nepal (Maoist Centre) (CPN-MC)\",\n",
      "      \"ideology\": \"Maoism, 'Prachanda Path' (initially), now leaning towards mainstream communism and socialism. Advocates for radical social and economic transformation, federalism, and republicanism.\"\n",
      "    },\n",
      "    {\n",
      "      \"name\": \"Rastriya Swatantra Party (RSP)\",\n",
      "      \"ideology\": \"Anti-corruption, direct democracy, liberalism, populism. Focuses on good governance, accountability, and empowering citizens through technology and direct participation.\"\n",
      "    },\n",
      "    {\n",
      "      \"name\": \"Rastriya Prajatantra Party (RPP)\",\n",
      "      \"ideology\": \"Monarchy, Hinduism, nationalism, conservatism. Advocates for the restoration of a constitutional monarchy and Nepal as a Hindu state, emphasizing traditional values.\"\n",
      "    },\n",
      "    {\n",
      "      \"name\": \"Janta Samajbadi Party, Nepal (JSPN)\",\n",
      "      \"ideology\": \"Federalism, republicanism, social democracy, identity politics. Primarily represents the interests of Madhesi and Janajati communities, advocating for inclusive federal structures and proportional representation.\"\n",
      "    }\n",
      "  ]\n",
      "}\n"
     ]
    }
   ],
   "source": [
    "print(response_gemini.text)"
   ]
  },
  {
   "cell_type": "code",
   "execution_count": null,
   "id": "1712fe2e",
   "metadata": {},
   "outputs": [],
   "source": []
  }
 ],
 "metadata": {
  "kernelspec": {
   "display_name": "docsumoenv",
   "language": "python",
   "name": "python3"
  },
  "language_info": {
   "codemirror_mode": {
    "name": "ipython",
    "version": 3
   },
   "file_extension": ".py",
   "mimetype": "text/x-python",
   "name": "python",
   "nbconvert_exporter": "python",
   "pygments_lexer": "ipython3",
   "version": "3.12.3"
  }
 },
 "nbformat": 4,
 "nbformat_minor": 5
}
